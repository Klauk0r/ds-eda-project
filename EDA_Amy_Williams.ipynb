{
 "cells": [
  {
   "cell_type": "markdown",
   "metadata": {},
   "source": [
    "# EDA\n",
    "\n",
    "![](data:image/jpeg;base64,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)"
   ]
  },
  {
   "cell_type": "markdown",
   "metadata": {},
   "source": [
    "## Stakeholder and her Aims\n",
    "\n",
    "Our customer calls herself Amy Williams. She's originally from Sicily and speaks with a thick Italian accent but made her requirements very clear:\n",
    "\n",
    "She owns several central houses that she describes accurately as being in the top 10%. She wants to sell these houses over the course of the next years. The revenue she wants to invest in property that gives her more privacy and makes her stand out less, because she despises flamboyancy. And nosey neighbours. \n",
    "\n",
    "We assume that she wants to be able to get as many hideaways as possible for her money.\n",
    "\n",
    "A basement would be a plus for gambling with good friends and storing concrete-encased objects.\n",
    "\n",
    "### Research Questions\n",
    "\n",
    "1. When is a good time to sell central high-profile real estate?\n",
    "2. Which houses on the outskirt are as average as possible?\n",
    "\n",
    "### Hypotheses and Guidelines for the House Hunt\n",
    "\n",
    "1. House prices are higher in spring than during the rest of the year, with a peak in march.\n",
    "2. The further away from the city centre, the lower the cost per sqft.\n",
    "3. The further away from the city centre, the larger the basement.\n",
    "4. Condition strongly correlates with price per sqft.\n",
    "\n",
    "\n",
    "Guideline: Suitable houses are comparable to the neighbourhood in terms of size and lot."
   ]
  },
  {
   "cell_type": "markdown",
   "metadata": {},
   "source": [
    "## Preparation\n",
    "\n",
    "To set up the notebook, let's first import the necessary libraries and load the data we want to explore\n"
   ]
  },
  {
   "cell_type": "code",
   "execution_count": null,
   "metadata": {},
   "outputs": [],
   "source": [
    "import pandas as pd\n",
    "import numpy as np\n",
    "import matplotlib.pyplot as plt\n",
    "import seaborn as sns\n",
    "import plotly.express as px\n",
    "\n",
    "#I have no idea what the following does, so I commented it out but left it in here because you never know.\n",
    "#import warnings\n",
    "\n",
    "#warnings.filterwarnings(\"ignore\")\n",
    "\n",
    "from matplotlib.ticker import PercentFormatter\n",
    "plt.rcParams.update({ \"figure.figsize\" : (8, 5),\"axes.facecolor\" : \"white\", \"axes.edgecolor\":  \"black\"})\n",
    "plt.rcParams[\"figure.facecolor\"]= \"w\"\n",
    "pd.plotting.register_matplotlib_converters()\n",
    "pd.set_option('display.float_format', lambda x: '%.3f' % x)"
   ]
  },
  {
   "cell_type": "code",
   "execution_count": null,
   "metadata": {},
   "outputs": [],
   "source": [
    "df_houses = pd.read_csv('data/King_County_House_prices_dataset.csv', parse_dates=True)"
   ]
  },
  {
   "cell_type": "markdown",
   "metadata": {},
   "source": [
    "## Overview of the Dataset\n",
    "\n",
    "Now let's have a first look at the dataset and explore it's properties."
   ]
  },
  {
   "cell_type": "code",
   "execution_count": null,
   "metadata": {},
   "outputs": [],
   "source": [
    "df_houses.head()"
   ]
  },
  {
   "cell_type": "code",
   "execution_count": null,
   "metadata": {},
   "outputs": [],
   "source": [
    "df_houses.info()"
   ]
  },
  {
   "cell_type": "markdown",
   "metadata": {},
   "source": [
    "Here, we already got some interesting information.\n",
    "Regarding missings, we see that there are a load of missings in the \"waterfront\" (2376, or 11%) and \"yr_renovated\" (3842, 17%) column that need to be dealt with. Few missings also can be found in the \"view\" column (63, 0.3%).\n",
    "How we deal with these will also depend on our RQs, so we'll deal with those later.\n",
    "\n",
    "\"date\" is type object, so is \"sqft_basement\". Investigate:"
   ]
  },
  {
   "cell_type": "code",
   "execution_count": null,
   "metadata": {},
   "outputs": [],
   "source": [
    "type(df_houses['date'][0])"
   ]
  },
  {
   "cell_type": "markdown",
   "metadata": {},
   "source": [
    "It's a string! Convert it to a date:"
   ]
  },
  {
   "cell_type": "code",
   "execution_count": null,
   "metadata": {},
   "outputs": [],
   "source": [
    "# change \"date\" dtype to datetime coming from the format %m/%d/%Y\n",
    "df_houses['date'] = pd.to_datetime(df_houses['date'], format='%m/%d/%Y')"
   ]
  },
  {
   "cell_type": "markdown",
   "metadata": {},
   "source": [
    "Check again:"
   ]
  },
  {
   "cell_type": "code",
   "execution_count": null,
   "metadata": {},
   "outputs": [],
   "source": [
    "type(df_houses['date'][0])"
   ]
  },
  {
   "cell_type": "markdown",
   "metadata": {},
   "source": [
    "Ok, cool. Moving on to the sqft_basement. This should be a float or an integer, so why is it not?"
   ]
  },
  {
   "cell_type": "code",
   "execution_count": null,
   "metadata": {},
   "outputs": [],
   "source": [
    "#Check all values for non-integers\n",
    "df_houses.sqft_basement.unique()"
   ]
  },
  {
   "cell_type": "markdown",
   "metadata": {},
   "source": [
    "Aha! The culprit is a question mark. Let's replace it with a missing value and convert it to a float:"
   ]
  },
  {
   "cell_type": "code",
   "execution_count": null,
   "metadata": {},
   "outputs": [],
   "source": [
    "df_houses['sqft_basement'] = df_houses.sqft_basement.replace('?',np.NaN)\n",
    "\n",
    "df_houses = df_houses.astype({'sqft_basement': float})"
   ]
  },
  {
   "cell_type": "markdown",
   "metadata": {},
   "source": [
    "Check whether that worked:"
   ]
  },
  {
   "cell_type": "code",
   "execution_count": null,
   "metadata": {},
   "outputs": [],
   "source": [
    "df_houses.head(10)"
   ]
  },
  {
   "cell_type": "markdown",
   "metadata": {},
   "source": [
    "Excellent. Time for one more overview: Where are those houses? Let's make a nice geographical map."
   ]
  },
  {
   "cell_type": "code",
   "execution_count": null,
   "metadata": {},
   "outputs": [],
   "source": [
    "fig = px.scatter_mapbox(df_houses, lat=\"lat\", lon=\"long\", hover_name=\"id\", hover_data=[\"zipcode\",\"price\",\"grade\"],\n",
    "                        color_discrete_sequence=[\"purple\"], zoom=8, height=800, opacity=0.8)\n",
    "fig.update_layout(mapbox_style=\"open-street-map\") # specify map type. You can go more artsy with stamen-watercolor, for example.\n",
    "fig.update_layout(margin={\"r\":0,\"t\":30,\"l\":0,\"b\":0}) # sets the margin from the left, top, right and bottom order\n",
    "fig.update_layout(title_text='Houses in King County', title_x=0.5) # sets a title for the plot and centers it\n",
    "fig.show()"
   ]
  },
  {
   "cell_type": "markdown",
   "metadata": {},
   "source": [
    "These are quite a lot of sales. Are there any duplicates?"
   ]
  },
  {
   "cell_type": "code",
   "execution_count": null,
   "metadata": {},
   "outputs": [],
   "source": [
    "df_houses[df_houses.duplicated()]"
   ]
  },
  {
   "cell_type": "markdown",
   "metadata": {},
   "source": [
    "Nope!\n",
    "\n",
    "All right. Time to take a bit of a deeper dive into the house prices. Let's look at how they are distributed."
   ]
  },
  {
   "cell_type": "code",
   "execution_count": null,
   "metadata": {},
   "outputs": [],
   "source": [
    "print(df_houses.price.describe())\n",
    "print(df_houses.price.mode())\n",
    "sns.histplot(df_houses['price'])\n",
    "plt.ticklabel_format(style='plain', axis='both')\n",
    "plt.show()"
   ]
  },
  {
   "cell_type": "code",
   "execution_count": null,
   "metadata": {},
   "outputs": [],
   "source": [
    "sns.boxplot(df_houses['price'])\n",
    "q1=df_houses['price'].quantile(0.25)\n",
    "q3=df_houses['price'].quantile(0.75)\n",
    "iqr = q3-q1\n",
    "\n",
    "llim_price = q1 - iqr*1.5\n",
    "ulim_price = q3 + iqr*1.5\n",
    "\n",
    "print(llim_price)\n",
    "print(ulim_price)"
   ]
  },
  {
   "cell_type": "markdown",
   "metadata": {},
   "source": [
    "Looks slightly positively skewed, with outliers being houses costing more than 1129500 $.\n",
    "\n",
    "Let's see what there is to know about the price per sqft."
   ]
  },
  {
   "cell_type": "code",
   "execution_count": null,
   "metadata": {},
   "outputs": [],
   "source": [
    "df_houses['price_sqft']=(df_houses['price']/df_houses['sqft_living'])"
   ]
  },
  {
   "cell_type": "code",
   "execution_count": null,
   "metadata": {},
   "outputs": [],
   "source": [
    "sns.boxplot(data=df_houses['price_sqft'], orient='h')"
   ]
  },
  {
   "cell_type": "markdown",
   "metadata": {},
   "source": [
    "...and let's investigate the most expensive ones."
   ]
  },
  {
   "cell_type": "code",
   "execution_count": null,
   "metadata": {},
   "outputs": [],
   "source": [
    "df_houses.query('price_sqft > 790')"
   ]
  },
  {
   "cell_type": "markdown",
   "metadata": {},
   "source": [
    "Generally speaking, these outliers look like real data. Most expensive houses are large, and houses with an extremely high price per sqft are in good condition and central, but still close to waterfronts or natural reserves.\n",
    "\n",
    "Now we still need to deal with the missings previously identified. Let's see where the waterfront-missings are located on the map:"
   ]
  },
  {
   "cell_type": "code",
   "execution_count": null,
   "metadata": {},
   "outputs": [],
   "source": [
    "fig = px.scatter_mapbox(df_houses[df_houses['waterfront'].isnull()], lat=\"lat\", lon=\"long\", hover_name=\"id\", hover_data=[\"zipcode\",\"price\",\"grade\"],\n",
    "                        color_discrete_sequence=[\"blue\"], zoom=8, height=800, opacity=0.5)\n",
    "fig.update_layout(mapbox_style=\"open-street-map\")\n",
    "fig.update_layout(margin={\"r\":0,\"t\":30,\"l\":0,\"b\":0})\n",
    "fig.update_layout(title_text='Houses in King County', title_x=0.5)\n",
    "fig.show()"
   ]
  },
  {
   "cell_type": "markdown",
   "metadata": {},
   "source": [
    "While most missings are non-waterfront houses, this is not true for all. We thus will keep the missings as missings, and not include the variable to calculate metrics we need."
   ]
  },
  {
   "cell_type": "code",
   "execution_count": null,
   "metadata": {},
   "outputs": [],
   "source": [
    "fig = px.scatter_mapbox(df_houses[df_houses['view'].isna()], lat=\"lat\", lon=\"long\", hover_name=\"id\", hover_data=[\"zipcode\",\"price\",\"grade\"],\n",
    "                        color_discrete_sequence=[\"blue\"], zoom=8, height=800, opacity=0.5)\n",
    "fig.update_layout(mapbox_style=\"open-street-map\")\n",
    "fig.update_layout(margin={\"r\":0,\"t\":30,\"l\":0,\"b\":0})\n",
    "fig.update_layout(title_text='Houses in King County', title_x=0.5)\n",
    "fig.show()"
   ]
  },
  {
   "cell_type": "markdown",
   "metadata": {},
   "source": [
    "This seems to be equally true for \"View\" - however, this is difficult to assess. Since there are few missings in this column, the respective rows can just be omitted when running relevant analyses.\n",
    "\n",
    "Moving on to the missings in the renovation column, let's check how they compare to non-renovated houses in terms of sales price."
   ]
  },
  {
   "cell_type": "code",
   "execution_count": null,
   "metadata": {},
   "outputs": [],
   "source": [
    "#replace missings with 100, so they are easier to compare in a graph.\n",
    "df_houses['yr_renovated'] = df_houses['yr_renovated'].fillna(100)\n",
    "chart=sns.barplot(data=df_houses.query('yr_renovated < 1950'), y=df_houses.query('yr_renovated < 1990')['price'], x=df_houses.query('yr_renovated < 1950')['yr_renovated'])"
   ]
  },
  {
   "cell_type": "markdown",
   "metadata": {},
   "source": [
    "House prices for houses with missing renovation dates are virtually the same as those with no renovation date. It therefore seems fair to replace them with zeroes, associating them with unrenovated houses."
   ]
  },
  {
   "cell_type": "code",
   "execution_count": null,
   "metadata": {},
   "outputs": [],
   "source": [
    "df_houses['yr_renovated'] = df_houses['yr_renovated'].replace(100,0)"
   ]
  },
  {
   "cell_type": "markdown",
   "metadata": {},
   "source": [
    "Ok, now we got a good overview over our dataset. It's time to move on to the research questions to make our client happy."
   ]
  },
  {
   "cell_type": "markdown",
   "metadata": {},
   "source": [
    "# Answering our Research Questions\n",
    "## When should our client sell?\n",
    "\n",
    "As you might remember, our customer is a maf... law-obiding citizen who owns several central houses in the top 10% of the market that she wants to get rid of.\n",
    "Instead, she looks to purchase a variety of average houses on the outskirts to have some privacy and no contact with law enforcement (she has a specific phobia that makes her feel uncomfortable around FBI agents).\n",
    "\n",
    "Thus, we need to identify what's the best time to sell expensive city houses, and what houses in the outskirts are so eye-wateringly boring that nobody would bother to look there."
   ]
  },
  {
   "cell_type": "markdown",
   "metadata": {},
   "source": [
    "Let's start by finding the most expensive central houses (which I define as being in the city of Seattle)."
   ]
  },
  {
   "cell_type": "code",
   "execution_count": null,
   "metadata": {},
   "outputs": [],
   "source": [
    "#List of Seattle zipcodes\n",
    "seattle = [98101, 98102, 98103, 98104, 98105, 98106, 98107, 98108, 98109, 98110, 98111, 98112, 98113, 98114, 98115, 98116, 98117, 98118, 98119, 98121, 98122, 98124, 98125, 98126, 98127, 98129, 98131, 98133, 98134, 98136, 98138, 98139, 98141, 98144, 98145, 98146, 98148, 98154, 98155, 98158, 98160, 98161, 98164, 98165, 98166, 98168, 98170, 98174, 98175, 98177, 98178, 98181, 98185, 98188, 98190, 98191, 98194, 98195, 98198, 98199]"
   ]
  },
  {
   "cell_type": "markdown",
   "metadata": {},
   "source": [
    "...and the distance to the city centre for each house:"
   ]
  },
  {
   "cell_type": "code",
   "execution_count": null,
   "metadata": {},
   "outputs": [],
   "source": [
    "#calculate distance from seattle city centre\n",
    "seattle_centre_lat = 47.606\n",
    "seattle_centre_lon = -122.332\n",
    "\n",
    "df_houses['dist_centre'] = np.sqrt((df_houses['lat']-seattle_centre_lat)**2 + (df_houses['long']-seattle_centre_lon)**2)"
   ]
  },
  {
   "cell_type": "markdown",
   "metadata": {},
   "source": [
    "To find out what's the best month to sell, we also need to be able to identify months in the first place, so we need to extract them from the date column as well."
   ]
  },
  {
   "cell_type": "code",
   "execution_count": null,
   "metadata": {},
   "outputs": [],
   "source": [
    "df_houses['month']=df_houses['date'].dt.month"
   ]
  },
  {
   "cell_type": "markdown",
   "metadata": {},
   "source": [
    "Now create a new dataset including only the houses in Seattle City."
   ]
  },
  {
   "cell_type": "code",
   "execution_count": null,
   "metadata": {},
   "outputs": [],
   "source": [
    "df_seattle = df_houses.loc[df_houses['zipcode'].isin(seattle)]\n",
    "\n",
    "df_seattle.nunique()"
   ]
  },
  {
   "cell_type": "markdown",
   "metadata": {},
   "source": [
    "But here's a question:\n",
    "### What makes a top 10% house?"
   ]
  },
  {
   "cell_type": "markdown",
   "metadata": {},
   "source": [
    "Let us pick some columns and enter them in a stepwise regression model and see how that performs in predicting house prices."
   ]
  },
  {
   "cell_type": "code",
   "execution_count": null,
   "metadata": {},
   "outputs": [],
   "source": [
    "import statsmodels.api as sm\n",
    "\n",
    "y = df_seattle['price']\n",
    "x_columns = ['sqft_living', 'condition', 'grade', 'yr_built', 'sqft_living15', 'dist_centre']\n",
    "\n",
    "def get_stats():\n",
    "    x = df_seattle[x_columns]\n",
    "    results = sm.OLS(y, x).fit()\n",
    "    print(results.summary())\n",
    "get_stats()"
   ]
  },
  {
   "cell_type": "markdown",
   "metadata": {},
   "source": [
    "From the regression weights, we can calculate a score for each house that predicts how likely it is to achieve a good price."
   ]
  },
  {
   "cell_type": "code",
   "execution_count": null,
   "metadata": {},
   "outputs": [],
   "source": [
    "df_seattle['rating']=(df_seattle['sqft_living']*148+df_seattle['condition']*46260+df_seattle['grade']*108500+(df_seattle['yr_built']*(-390))+df_seattle['sqft_living15']*153+df_seattle['dist_centre']*(-1914000))\n",
    "\n",
    "df_seattle.describe()"
   ]
  },
  {
   "cell_type": "markdown",
   "metadata": {},
   "source": [
    "Now let us see how the months differ from each other in terms of sales prices for the top 10 houses in Seattle:"
   ]
  },
  {
   "cell_type": "code",
   "execution_count": null,
   "metadata": {},
   "outputs": [],
   "source": [
    "df_t10r = df_seattle.loc[df_seattle['rating']>=df_seattle.rating.quantile(0.9)]\n",
    "\n",
    "print(df_t10r['price'].describe())\n",
    "print(df_t10r.groupby('month')['price'].median())\n",
    "\n",
    "df_t10r['d_price'] = df_t10r['price']-df_t10r['price'].median()\n",
    "colors = ['g' if d >= 0 else 'r' for d in df_t10r['d_price']]\n",
    "\n",
    "#and for those who hate boxplots:\n",
    "sns.barplot(data=df_t10r, x='month', y='d_price', estimator=np.median, ci=None, color='purple')#, palette='colors')\n",
    "plt.ylabel('Deviation from median Price (in 1,000 $)')\n",
    "plt.xlabel('Month of Sale')\n",
    "plt.yticks(range(-100000, 109000,25000),[-100, -75, -50, -25, 0, +25, +50, +75, +100])\n",
    "plt.xticks(range(0,12),['Jan','Feb','Mar','Apr','May','Jun','Jul','Aug','Sep','Oct','Nov','Dec'])\n",
    "plt.axhline(0, color='black', lw=1)\n",
    "plt.show()"
   ]
  },
  {
   "cell_type": "markdown",
   "metadata": {},
   "source": [
    "There is no huge difference between the months in terms of sales price. Most sales take place in June, least in January. The highest median price for the top 10 % buildings can be achieved in March (1,155,000$), the lowest in August (971,000$)."
   ]
  },
  {
   "cell_type": "markdown",
   "metadata": {},
   "source": [
    "### Finding new property on the outskirts ###\n",
    "\n",
    "So now that we know when to sell (all the time), it's time to look at the properties we want to buy. First, we want to identify properties on the outskirts, which we will do by calculating their distance from the city centre.\n",
    "\n"
   ]
  },
  {
   "cell_type": "markdown",
   "metadata": {},
   "source": [
    "We predicted a correlation between price and distance from city centre. Let's see whether that holds true:"
   ]
  },
  {
   "cell_type": "code",
   "execution_count": null,
   "metadata": {},
   "outputs": [],
   "source": [
    "np.corrcoef(df_houses['dist_centre'], df_houses['price_sqft'])\n",
    "\n",
    "df_houses['price_sqft'].describe()"
   ]
  },
  {
   "cell_type": "markdown",
   "metadata": {},
   "source": [
    "A correlation coefficient of _r_ = .47 indicates a moderate to strong negative correlation between distance from city centre and price per sqft. That means, the further out a house, the cheaper it tends to be per square foot.\n",
    "This can also nicely be seen on the following map, where darker dots indicate lower prices:"
   ]
  },
  {
   "cell_type": "code",
   "execution_count": null,
   "metadata": {},
   "outputs": [],
   "source": [
    "fig = px.scatter_mapbox(df_houses, lat=\"lat\", lon=\"long\", color='price_sqft', labels={'price_sqft': '$ / sqft'}, hover_name=\"id\", hover_data=[\"zipcode\",\"price\",\"grade\"],\n",
    "                        color_discrete_sequence=[\"blue\"], zoom=8, height=800)\n",
    "fig.update_layout(mapbox_style=\"open-street-map\")\n",
    "fig.update_layout(margin={\"r\":0,\"t\":30,\"l\":0,\"b\":0})\n",
    "fig.update_layout(title_text='Houses in King County', title_x=0.5)\n",
    "fig.show()"
   ]
  },
  {
   "cell_type": "markdown",
   "metadata": {},
   "source": [
    "Also, our customer is interested in houses with a rather large basement. We predict that those can also be found on the outskirts:"
   ]
  },
  {
   "cell_type": "code",
   "execution_count": null,
   "metadata": {},
   "outputs": [],
   "source": [
    "#as correlations apparently can't handle missings, we assume that the missing basement information means that there is no basement, so we replace the NaN with a zero.\n",
    "np.nan_to_num(df_houses['sqft_basement'], copy=False, nan=0.0)\n",
    "\n",
    "df_houses['sqft_basement'].head(20)"
   ]
  },
  {
   "cell_type": "code",
   "execution_count": null,
   "metadata": {},
   "outputs": [],
   "source": [
    "np.corrcoef(df_houses['dist_centre'], df_houses['sqft_basement'])"
   ]
  },
  {
   "cell_type": "code",
   "execution_count": null,
   "metadata": {},
   "outputs": [],
   "source": [
    "sns.scatterplot(data=df_houses, x='dist_centre', y='sqft_basement', color='purple')\n",
    "plt.ylabel('Size of Basement (in sqft)')\n",
    "plt.xlabel('Distance to City Centre')\n",
    "plt.xticks([0, 0.5, 1],['close', 'medium', 'far out'])\n",
    "plt.show()"
   ]
  },
  {
   "cell_type": "markdown",
   "metadata": {},
   "source": [
    "This does not seem to be the case. Possibly, houses in the city centre have basements, whereas houses in the outskirts have larger lots, making basements unnecessary."
   ]
  },
  {
   "cell_type": "code",
   "execution_count": null,
   "metadata": {},
   "outputs": [],
   "source": [
    "np.corrcoef(df_houses['dist_centre'], df_houses['sqft_lot'])"
   ]
  },
  {
   "cell_type": "code",
   "execution_count": null,
   "metadata": {},
   "outputs": [],
   "source": [
    "np.corrcoef(df_houses['sqft_lot'], df_houses['sqft_basement'])"
   ]
  },
  {
   "cell_type": "markdown",
   "metadata": {},
   "source": [
    "could be.\n",
    "\n",
    "As a last hypothesis, we predicted that the building's condition strongly correlates with price per sqft."
   ]
  },
  {
   "cell_type": "code",
   "execution_count": null,
   "metadata": {},
   "outputs": [],
   "source": [
    "np.corrcoef(df_houses['condition'], df_houses['price_sqft'])\n",
    "\n",
    "df_houses.condition.corr(df_houses.price_sqft, method='spearman')"
   ]
  },
  {
   "cell_type": "markdown",
   "metadata": {},
   "source": [
    "We see that there is a correlation, but with _r_ = .10, it's rather weak. Why is that the case?\n",
    "\n",
    "Looking more closely at the \"Condition\" variable, we see that it only has five values, and only very few houses in a terrible state: "
   ]
  },
  {
   "cell_type": "code",
   "execution_count": null,
   "metadata": {},
   "outputs": [],
   "source": [
    "df_houses['condition'].value_counts()"
   ]
  },
  {
   "cell_type": "code",
   "execution_count": null,
   "metadata": {},
   "outputs": [],
   "source": [
    "sns.barplot(data=df_houses, x='condition', y='price_sqft', color='purple')\n",
    "plt.ylabel('Price per sqft')\n",
    "plt.xlabel('Condition')\n",
    "plt.xticks([0,1,2,3,4],['rats avoid it', 'some mold', 'standard', 'good as new', 'polished af'])\n",
    "plt.show()"
   ]
  },
  {
   "cell_type": "markdown",
   "metadata": {},
   "source": [
    "Various plots can show what exactly that means, but it's most apparent in a scatterplot: Only very few houses in bad condition are sold, and they vary in price a lot. This suggests that houses in such bad condition are either torn down, and only sold when they are really special or standing on very expensive ground.\n",
    "\n",
    "To wrap this section up, let's get an overview over how all the houses' properties relate to each other:"
   ]
  },
  {
   "cell_type": "code",
   "execution_count": null,
   "metadata": {},
   "outputs": [],
   "source": [
    "df_corr = df_houses[['price','sqft_living','sqft_lot','condition','grade','sqft_basement','sqft_living15','sqft_lot15','price_sqft','dist_centre']]\n",
    "\n",
    "sns.heatmap(df_corr.corr(method='spearman'), annot=True, linewidths=.01, fmt='.2f', center=0, cmap='coolwarm')"
   ]
  },
  {
   "cell_type": "markdown",
   "metadata": {},
   "source": [
    "## Find average houses\n",
    "\n",
    "We further wanted to identify houses that are really similar to their neighbourhood, so we can recommend very non-outstanding houses to our client."
   ]
  },
  {
   "cell_type": "code",
   "execution_count": null,
   "metadata": {},
   "outputs": [],
   "source": [
    "#calculate the difference between each real estate's size and its neighbourhood's average\n",
    "\n",
    "df_houses['d_living_sqft'] = (df_houses['sqft_living'] - df_houses['sqft_living15'])\n",
    "df_houses['d_lot_sqft'] = df_houses['sqft_lot'] - df_houses['sqft_lot15']\n",
    "\n",
    "livingplot = sns.histplot(data=df_houses, x='d_living_sqft')"
   ]
  },
  {
   "cell_type": "code",
   "execution_count": null,
   "metadata": {},
   "outputs": [],
   "source": [
    "# plot the same graph but without outliers to make it more comprehensible\n",
    "\n",
    "def reject_outliers(data, m = 1.5):\n",
    "    d = np.abs(data - np.median(data))\n",
    "    mdev = np.median(d)\n",
    "    s = d/mdev if mdev else 0.\n",
    "    return data[s<m]\n",
    "\n",
    "livingplot = sns.histplot(data=df_houses, x=reject_outliers(df_houses['d_living_sqft'],3))"
   ]
  },
  {
   "cell_type": "code",
   "execution_count": null,
   "metadata": {},
   "outputs": [],
   "source": [
    "lotplot = sns.histplot(data=df_houses, x=reject_outliers(df_houses['d_lot_sqft'],3))"
   ]
  },
  {
   "cell_type": "code",
   "execution_count": null,
   "metadata": {},
   "outputs": [],
   "source": [
    "fig = px.scatter_mapbox(df_houses, lat=\"lat\", lon=\"long\", color=np.sqrt(abs(df_houses['d_living_sqft'])), hover_name=\"d_living_sqft\", hover_data=[\"price\",\"grade\"],\n",
    "                        color_discrete_sequence=[\"blue\"], zoom=8, height=500)\n",
    "fig.update_layout(mapbox_style=\"open-street-map\")\n",
    "fig.update_layout(margin={\"r\":0,\"t\":30,\"l\":0,\"b\":0})\n",
    "fig.update_layout(title_text='Houses in King County', title_x=0.5)\n",
    "fig.show()"
   ]
  },
  {
   "cell_type": "markdown",
   "metadata": {},
   "source": [
    "However, none of these measures give us a definite answer on which houses we could recommend to our client. Thus, let's draw up the\n",
    "## M.A.F.I.A. - Metric for the Assessment of Fit of Assets\n",
    "\n",
    "Everything you want in one score!\n",
    "\n",
    "- Distance to centre\n",
    "- Similarity to neighbours\n",
    "- Size of basement\n",
    "\n",
    "To do that, we first need to bring all these indicators to the same scale - standardised to range from 0 to 1."
   ]
  },
  {
   "cell_type": "code",
   "execution_count": null,
   "metadata": {},
   "outputs": [],
   "source": [
    "df_houses['d_living_sqft_abs']=abs(df_houses['d_living_sqft'])\n",
    "df_houses['d_lot_sqft_abs']=abs(df_houses['d_lot_sqft'])\n",
    "\n",
    "c = ['sqft_basement', 'dist_centre','d_living_sqft_abs','d_lot_sqft_abs']\n",
    "s = '_z'\n",
    "cs = ''\n",
    "for i in c:\n",
    "       cs=i+s\n",
    "       df_houses[cs] = (df_houses[i] - df_houses[i].min()) / (df_houses[i] - df_houses[i].min()).max()"
   ]
  },
  {
   "cell_type": "markdown",
   "metadata": {},
   "source": [
    "From these variables, we can now calculate the m.a.f.i.a. (which we then standardise as well, to make it more comprehensible)."
   ]
  },
  {
   "cell_type": "code",
   "execution_count": null,
   "metadata": {},
   "outputs": [],
   "source": [
    "#calculate m.a.f.i.a.\n",
    "df_houses['mafia']=(df_houses['sqft_basement_z']+df_houses['dist_centre_z']+(1-df_houses['d_living_sqft_abs_z'])+(1-df_houses['d_lot_sqft_abs_z'])/4)\n",
    "\n",
    "#standardize\n",
    "df_houses['mafia'] =( df_houses['mafia']-df_houses['mafia'].mean()) / df_houses['mafia'].std()\n",
    "df_houses['mafia'] = (df_houses['mafia'] - df_houses['mafia'].min()) / (df_houses['mafia'] - df_houses['mafia'].min()).max()"
   ]
  },
  {
   "cell_type": "code",
   "execution_count": null,
   "metadata": {},
   "outputs": [],
   "source": [
    "sns.histplot(data=df_houses, x='mafia')\n",
    "plt.show()\n",
    "df_houses.mafia.describe()"
   ]
  },
  {
   "cell_type": "markdown",
   "metadata": {},
   "source": [
    "So which are the top 10 m.a.f.i.a.-houses?"
   ]
  },
  {
   "cell_type": "code",
   "execution_count": null,
   "metadata": {},
   "outputs": [],
   "source": [
    "df_houses.query('mafia > 0.449').sort_values(by='mafia', ascending=False).head(10)[['id','date','price','sqft_living','sqft_living15','sqft_lot','sqft_lot15','condition','grade','sqft_basement','yr_built','dist_centre_z','mafia']]"
   ]
  },
  {
   "cell_type": "markdown",
   "metadata": {},
   "source": [
    "There are some real bargains here! They are in reasonable condition, two of them have huge basements (while the rest is at least far out in the countryside), and they don't stand out from the neighbourhood. What more do you want when hiding from the FBI?\n",
    "\n",
    "Now let's have a look at where we can find them on the map, and then drive by there:"
   ]
  },
  {
   "cell_type": "code",
   "execution_count": null,
   "metadata": {},
   "outputs": [],
   "source": [
    "df_houses.query('mafia > 0.449').sort_values(by='mafia', ascending=False).head(10)\n",
    "\n",
    "fig = px.scatter_mapbox(df_houses.query('mafia > 0.449').sort_values(by='mafia', ascending=False).head(10), lat=\"lat\", lon=\"long\", color='mafia', hover_name=\"id\", hover_data=[\"price\",\"grade\"],\n",
    "                        color_discrete_sequence=[\"purple\"], zoom=8, height=800, labels={'mafia':'M.A.Fi.A.'})\n",
    "fig.update_layout(mapbox_style=\"open-street-map\")\n",
    "fig.update_layout(margin={\"r\":0,\"t\":30,\"l\":0,\"b\":0})\n",
    "fig.update_layout(title_text='Houses in King County', title_x=0.5)\n",
    "fig.show()"
   ]
  }
 ],
 "metadata": {
  "kernelspec": {
   "display_name": "Python 3.9.8 ('.venv': venv)",
   "language": "python",
   "name": "python3"
  },
  "language_info": {
   "codemirror_mode": {
    "name": "ipython",
    "version": 3
   },
   "file_extension": ".py",
   "mimetype": "text/x-python",
   "name": "python",
   "nbconvert_exporter": "python",
   "pygments_lexer": "ipython3",
   "version": "3.9.8"
  },
  "orig_nbformat": 4,
  "vscode": {
   "interpreter": {
    "hash": "d162ce70dd8e388810d2d1ede73fe68652e8b72b60d6bbc670e32e3463afee23"
   }
  }
 },
 "nbformat": 4,
 "nbformat_minor": 2
}
